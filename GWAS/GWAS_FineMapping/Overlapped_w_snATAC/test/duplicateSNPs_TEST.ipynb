{
 "cells": [
  {
   "cell_type": "code",
   "execution_count": 17,
   "metadata": {},
   "outputs": [
    {
     "name": "stdout",
     "output_type": "stream",
     "text": [
      "   Credible_Set              GeneName             Unnamed: 0\n",
      "2    rs10276423         [UMAD1, ICA1]           [CS76, CS79]\n",
      "3    rs10406449         [ABCA7, APOE]         [CS184, CS189]\n",
      "10   rs10952097         [UMAD1, ICA1]           [CS74, CS77]\n",
      "13   rs11136000          [PTK2B, CLU]           [CS95, CS99]\n",
      "15   rs11671157  [ABCA7, ABCA7, APOE]  [CS176, CS182, CS187]\n",
      "16   rs11755124       [UNC5CL, TREM2]           [CS58, CS63]\n",
      "18   rs11787077          [PTK2B, CLU]           [CS95, CS99]\n",
      "21   rs12151021         [ABCA7, APOE]         [CS173, CS186]\n",
      "25   rs12664332       [UNC5CL, TREM2]           [CS60, CS64]\n",
      "26   rs12669393         [UMAD1, ICA1]           [CS76, CS79]\n",
      "27   rs12671102         [UMAD1, ICA1]           [CS76, CS79]\n",
      "28   rs12672077         [UMAD1, ICA1]           [CS76, CS79]\n",
      "30   rs13260543          [PTK2B, CLU]           [CS94, CS98]\n",
      "31  rs143332484       [UNC5CL, TREM2]           [CS57, CS62]\n",
      "32  rs149833416         [ABCA7, APOE]         [CS183, CS188]\n",
      "36   rs17057043          [PTK2B, CLU]           [CS93, CS97]\n",
      "40    rs2405442       [PILRA, SPDYE3]           [CS84, CS86]\n",
      "44    rs3752232         [ABCA7, APOE]         [CS184, CS189]\n",
      "45    rs3764647         [ABCA7, APOE]         [CS184, CS189]\n",
      "46    rs3795065         [ABCA7, APOE]         [CS175, CS185]\n",
      "48    rs4147916         [ABCA7, APOE]         [CS183, CS188]\n",
      "49    rs4147918         [ABCA7, APOE]         [CS183, CS188]\n",
      "50    rs4147921         [ABCA7, APOE]         [CS183, CS188]\n",
      "51    rs4147933         [ABCA7, APOE]         [CS183, CS188]\n",
      "53    rs4582462         [UMAD1, ICA1]           [CS73, CS78]\n",
      "54    rs4588760         [UMAD1, ICA1]           [CS73, CS78]\n",
      "58    rs4714447       [UNC5CL, TREM2]           [CS58, CS63]\n",
      "59    rs4725076         [UMAD1, ICA1]           [CS74, CS77]\n",
      "70    rs6943429         [UMAD1, ICA1]           [CS76, CS79]\n",
      "71    rs6977755         [UMAD1, ICA1]           [CS73, CS78]\n",
      "75   rs73054050         [UMAD1, ICA1]           [CS76, CS79]\n",
      "77    rs7384878       [PILRA, SPDYE3]           [CS84, CS86]\n",
      "79   rs75932628       [UNC5CL, TREM2]           [CS56, CS61]\n",
      "80   rs76527008         [ABCA7, APOE]         [CS182, CS187]\n",
      "81   rs77579690       [UNC5CL, TREM2]           [CS60, CS64]\n",
      "82   rs77713912         [ABCA7, APOE]         [CS183, CS188]\n",
      "83    rs7812347          [PTK2B, CLU]          [CS100, CS96]\n",
      "84    rs7912495      [USP6NL, ECHDC3]         [CS105, CS112]\n",
      "88    rs9331930          [PTK2B, CLU]          [CS100, CS96]\n",
      "90    rs9357347       [UNC5CL, TREM2]           [CS59, CS65]\n",
      "91    rs9394764       [UNC5CL, TREM2]           [CS59, CS65]\n",
      "92    rs9394766       [UNC5CL, TREM2]           [CS59, CS65]\n",
      "93    rs9394767       [UNC5CL, TREM2]           [CS59, CS65]\n"
     ]
    }
   ],
   "source": [
    "import pandas as pd\n",
    "\n",
    "##find duplicated SNPs in nearby genes\n",
    "df = pd.read_csv('FineMapping.csv')\n",
    "\n",
    "#print(df.head())\n",
    "\n",
    "df['Credible_Set'] = df['Credible_Set'].str.split()##splitting the SNPs by space\n",
    "df_long = df.explode('Credible_Set').reset_index(drop=True)##converting the data from wide to long format\n",
    "\n",
    "##Filter only duplicate SNP values\n",
    "duplicates = df_long[df_long.duplicated(subset='Credible_Set', keep=False)].groupby('Credible_Set').agg({'GeneName': list, 'Unnamed: 0': lambda x: sorted(list(set(x)))}).reset_index()\n",
    "duplicates = duplicates[duplicates['GeneName'].apply(lambda x: len(set(x))) >= 2]\n",
    "\n",
    "print(duplicates)\n",
    "\n"
   ]
  }
 ],
 "metadata": {
  "kernelspec": {
   "display_name": "newenv",
   "language": "python",
   "name": "python3"
  },
  "language_info": {
   "codemirror_mode": {
    "name": "ipython",
    "version": 3
   },
   "file_extension": ".py",
   "mimetype": "text/x-python",
   "name": "python",
   "nbconvert_exporter": "python",
   "pygments_lexer": "ipython3",
   "version": "3.10.4"
  },
  "orig_nbformat": 4
 },
 "nbformat": 4,
 "nbformat_minor": 2
}
